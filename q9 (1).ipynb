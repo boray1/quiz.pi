{
 "cells": [
  {
   "cell_type": "code",
   "execution_count": 1,
   "id": "9de3cb80-9653-4f0e-b67e-a2728fcce3c0",
   "metadata": {},
   "outputs": [
    {
     "data": {
      "text/plain": [
       "{'AXO145': ['xcd32112.smart_meteor.com'],\n",
       " 'TRU151': ['txh67.dia_meteor.com'],\n",
       " 'ZOD231': ['yt5495.smart_meteor.com'],\n",
       " 'YRT326': ['ret323_tru.crown.com'],\n",
       " 'LWR245': ['luwr3243.celcius.com']}"
      ]
     },
     "execution_count": 1,
     "metadata": {},
     "output_type": "execute_result"
    }
   ],
   "source": [
    "import re\n",
    "\n",
    "data = [\n",
    "    ('AXO145', '<url>http://xcd32112.smart_meteor.com</url>'),\n",
    "    ('TRU151', '<url>http://tXh67.dia_meteor.com</url>'),\n",
    "    ('ZOD231', '<url>http://yT5495.smart_meteor.com</url>'),\n",
    "    ('YRT326', '<url>https://ret323_TRu.crown.com</url>'),\n",
    "    ('LWR245', '<url>https://luwr3243.celcius.com</url>')\n",
    "]\n",
    "\n",
    "pattern = r'<url>https?://([a-z0-9_\\.]+)</url>'\n",
    "\n",
    "result = {}\n",
    "for row in data:\n",
    "    device_type = row[0]\n",
    "    stats_access_link = row[1]\n",
    "    match = re.search(pattern, stats_access_link.lower())\n",
    "    if match:\n",
    "        url = match.group(1)\n",
    "        result.setdefault(device_type, []).append(url)\n",
    "\n",
    "result"
   ]
  }
 ],
 "metadata": {
  "kernelspec": {
   "display_name": "Python 3 (ipykernel)",
   "language": "python",
   "name": "python3"
  },
  "language_info": {
   "codemirror_mode": {
    "name": "ipython",
    "version": 3
   },
   "file_extension": ".py",
   "mimetype": "text/x-python",
   "name": "python",
   "nbconvert_exporter": "python",
   "pygments_lexer": "ipython3",
   "version": "3.9.12"
  }
 },
 "nbformat": 4,
 "nbformat_minor": 5
}
